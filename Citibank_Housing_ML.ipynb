{
  "nbformat": 4,
  "nbformat_minor": 0,
  "metadata": {
    "colab": {
      "name": "Citibank Housing ML.ipynb",
      "version": "0.3.2",
      "provenance": [],
      "private_outputs": true,
      "collapsed_sections": []
    },
    "kernelspec": {
      "name": "python3",
      "display_name": "Python 3"
    }
  },
  "cells": [
    {
      "metadata": {
        "id": "FcpS3DBMbNRb",
        "colab_type": "text"
      },
      "cell_type": "markdown",
      "source": [
        "# Citibank Housing ML"
      ]
    },
    {
      "metadata": {
        "id": "8MQU5fFDIIrv",
        "colab_type": "code",
        "colab": {}
      },
      "cell_type": "code",
      "source": [
        "# numpy and pandas for data manipulation\n",
        "import numpy as np\n",
        "import pandas as pd \n",
        "import matplotlib.pyplot as plt"
      ],
      "execution_count": 0,
      "outputs": []
    },
    {
      "metadata": {
        "id": "Yc6qzCHsWbem",
        "colab_type": "code",
        "colab": {}
      },
      "cell_type": "code",
      "source": [
        "!unzip -qn home_credit_data.zip"
      ],
      "execution_count": 0,
      "outputs": []
    },
    {
      "metadata": {
        "id": "QD3x0cV3VXm3",
        "colab_type": "code",
        "colab": {}
      },
      "cell_type": "code",
      "source": [
        "# Training data\n",
        "pd.set_option('display.width', 0)\n",
        "data = pd.read_csv('application_train.csv')\n",
        "print('Training data shape: ', data.shape)\n",
        "data.head()"
      ],
      "execution_count": 0,
      "outputs": []
    },
    {
      "metadata": {
        "id": "FGEEQkCpk7oH",
        "colab_type": "code",
        "colab": {}
      },
      "cell_type": "code",
      "source": [
        "best_features = ['DAYS_BIRTH', \n",
        "                 'DAYS_EMPLOYED', \n",
        "                 'AMT_ANNUITY', \n",
        "                 'DAYS_LAST_PHONE_CHANGE',\n",
        "                 'AMT_CREDIT', \n",
        "                 'AMT_INCOME_TOTAL',\n",
        "                 'AMT_GOODS_PRICE',\n",
        "                 'HOUR_APPR_PROCESS_START', \n",
        "                 'OWN_CAR_AGE',\n",
        "                 'CNT_FAM_MEMBERS',\n",
        "                 'CNT_CHILDREN',\n",
        "                 'FLAG_OWN_REALTY',\n",
        "                 'FLAG_PHONE', \n",
        "                 'NAME_FAMILY_STATUS',\n",
        "                 'FLAG_WORK_PHONE', \n",
        "                 'ORGANIZATION_TYPE',\n",
        "                 'OCCUPATION_TYPE',\n",
        "                 'NAME_INCOME_TYPE',\n",
        "                 'NAME_EDUCATION_TYPE', \n",
        "                 'CODE_GENDER', \n",
        "#                  'NAME_HOUSING_TYPE', \n",
        "                 'FLAG_EMAIL', \n",
        "#                  'NAME_CONTRACT_TYPE'\n",
        "                ]"
      ],
      "execution_count": 0,
      "outputs": []
    },
    {
      "metadata": {
        "id": "TTKkE8LI_6hZ",
        "colab_type": "code",
        "colab": {}
      },
      "cell_type": "code",
      "source": [
        "data = data[best_features + ['TARGET']]\n",
        "print(data.shape)\n",
        "app_train = data.copy()"
      ],
      "execution_count": 0,
      "outputs": []
    },
    {
      "metadata": {
        "id": "Cz1BWG2DVXn2",
        "colab_type": "code",
        "colab": {}
      },
      "cell_type": "code",
      "source": [
        "# Create a label encoder object\n",
        "\n",
        "def encode_labels(x):\n",
        "    for col in x:\n",
        "        if x[col].dtype == 'object':\n",
        "            if len(list(x[col].unique())) <= 2:\n",
        "                x[col] = LabelEncoder().fit_transform(x[col])\n",
        "    return x\n",
        "                \n",
        "app_train = encode_labels(app_train)"
      ],
      "execution_count": 0,
      "outputs": []
    },
    {
      "metadata": {
        "id": "e3NCB6b88xJd",
        "colab_type": "code",
        "colab": {}
      },
      "cell_type": "code",
      "source": [
        "app_train.dtypes.value_counts()"
      ],
      "execution_count": 0,
      "outputs": []
    },
    {
      "metadata": {
        "id": "I06GCUZRVXn8",
        "colab_type": "code",
        "colab": {}
      },
      "cell_type": "code",
      "source": [
        "# one-hot encoding of categorical variables\n",
        "app_train = pd.get_dummies(app_train)\n",
        "print('Training Features shape: ', app_train.shape)"
      ],
      "execution_count": 0,
      "outputs": []
    },
    {
      "metadata": {
        "id": "17aXc2ujVXoA",
        "colab_type": "code",
        "colab": {}
      },
      "cell_type": "code",
      "source": [
        "train_labels = app_train['TARGET']\n",
        "print('Training Features shape: ', app_train.shape)"
      ],
      "execution_count": 0,
      "outputs": []
    },
    {
      "metadata": {
        "id": "sgH1Zd1wVXpo",
        "colab_type": "code",
        "colab": {}
      },
      "cell_type": "code",
      "source": [
        "from sklearn.preprocessing import MinMaxScaler, Imputer\n",
        "\n",
        "# Drop the target from the training data\n",
        "if 'TARGET' in app_train:\n",
        "    train = app_train.drop(columns = ['TARGET'])\n",
        "else:\n",
        "    train = app_train.copy()\n",
        "        \n",
        "# Feature names\n",
        "features = list(train.columns)\n",
        "\n",
        "# Median imputation of missing values\n",
        "imputer = Imputer(strategy = 'median')\n",
        "\n",
        "# Scale each feature to 0-1\n",
        "scaler = MinMaxScaler(feature_range = (0, 1))\n",
        "\n",
        "# Fit on the training data\n",
        "imputer.fit(train)\n",
        "\n",
        "# Transform both training and testing data\n",
        "train = imputer.transform(train)\n",
        "\n",
        "# Repeat with the scaler\n",
        "scaler.fit(train)\n",
        "train = scaler.transform(train)\n",
        "# test = scaler.transform(test)\n",
        "\n",
        "print('Training data shape: ', train.shape)"
      ],
      "execution_count": 0,
      "outputs": []
    },
    {
      "metadata": {
        "id": "x93ZrkKbqBra",
        "colab_type": "code",
        "colab": {}
      },
      "cell_type": "code",
      "source": [
        "from sklearn.model_selection import train_test_split\n",
        "x_trn, x_val, y_trn, y_val = train_test_split(train, train_labels, random_state=42, test_size=0.1, stratify=train_labels)"
      ],
      "execution_count": 0,
      "outputs": []
    },
    {
      "metadata": {
        "id": "QIr9322uuDWn",
        "colab_type": "code",
        "colab": {}
      },
      "cell_type": "code",
      "source": [
        "from sklearn.linear_model import *"
      ],
      "execution_count": 0,
      "outputs": []
    },
    {
      "metadata": {
        "id": "acjMw9v-VXps",
        "colab_type": "code",
        "colab": {}
      },
      "cell_type": "code",
      "source": [
        "%%time\n",
        "model = RidgeClassifier(class_weight='balanced')\n",
        "# Train on the training data\n",
        "model.fit(x_trn, y_trn)"
      ],
      "execution_count": 0,
      "outputs": []
    },
    {
      "metadata": {
        "id": "JoxFGYEGVXpv",
        "colab_type": "code",
        "colab": {}
      },
      "cell_type": "code",
      "source": [
        "# Make predictions\n",
        "# Make sure to select the second column only\n",
        "# pred = model.predict_proba(x_val)[:, 1]\n",
        "pred = model.decision_function(x_val)"
      ],
      "execution_count": 0,
      "outputs": []
    },
    {
      "metadata": {
        "id": "QZxd2G6epjZH",
        "colab_type": "code",
        "colab": {}
      },
      "cell_type": "code",
      "source": [
        "from sklearn.metrics import roc_auc_score\n",
        "roc_auc_score(y_val, pred)"
      ],
      "execution_count": 0,
      "outputs": []
    },
    {
      "metadata": {
        "id": "1zIMgE-tifZa",
        "colab_type": "code",
        "colab": {}
      },
      "cell_type": "code",
      "source": [
        "test = data.iloc[:1]"
      ],
      "execution_count": 0,
      "outputs": []
    },
    {
      "metadata": {
        "id": "ieCmt81xvqh6",
        "colab_type": "code",
        "colab": {}
      },
      "cell_type": "code",
      "source": [
        "def process_sample(df):\n",
        "    df = encode_labels(df)\n",
        "    df = pd.get_dummies(df)\n",
        "    df = df.drop('TARGET', axis=1) if 'TARGET' in df.columns else df\n",
        "    template = app_train.drop('TARGET', axis=1)\n",
        "    _, df = template.align(df, fill_value=None, axis=1)\n",
        "    df = df[[col for col in df if col in template.columns]]\n",
        "    df = scaler.transform(imputer.transform(df))\n",
        "    return df"
      ],
      "execution_count": 0,
      "outputs": []
    },
    {
      "metadata": {
        "id": "rac7fYj364CH",
        "colab_type": "code",
        "colab": {}
      },
      "cell_type": "code",
      "source": [
        "def demo(data):\n",
        "    i = np.random.choice(len(data) - 1)\n",
        "    sample = data.iloc[i:i+1].drop('TARGET', axis=1)\n",
        "    sample = scaler.transform(imputer.transform(sample))\n",
        "    pred = model.predict(sample)\n",
        "    return pred"
      ],
      "execution_count": 0,
      "outputs": []
    },
    {
      "metadata": {
        "id": "51H8YA84BDLn",
        "colab_type": "code",
        "colab": {}
      },
      "cell_type": "code",
      "source": [
        "def tune_price(sample):\n",
        "    pred = model.predict(preprocess(sample))\n",
        "    price = sample['AMT_GOODS_PRICE'].values[0]\n",
        "    print('Original price', price)\n",
        "    if pred == True:\n",
        "        print('True, increasing price')\n",
        "        while pred == True:\n",
        "            test = sample.copy()\n",
        "            test['AMT_GOODS_PRICE'].values[0] = price + 10000\n",
        "            pred = model.predict(preprocess(sample))\n",
        "            if pred == True:\n",
        "                price += 10000\n",
        "                print(price)\n",
        "    if pred == False:\n",
        "        print('False, decreasing price')\n",
        "        while pred == False:\n",
        "            test = sample.copy()\n",
        "            test['AMT_GOODS_PRICE'].values[0] = price - 10000\n",
        "            pred = model.predict(preprocess_sample)\n",
        "            if pred == False:\n",
        "                price -= 10000\n",
        "                print(price)"
      ],
      "execution_count": 0,
      "outputs": []
    },
    {
      "metadata": {
        "id": "5VyZ3bXwDHjT",
        "colab_type": "code",
        "colab": {}
      },
      "cell_type": "code",
      "source": [
        "def preprocess(sample):\n",
        "    return scaler.transform(imputer.transform(sample.drop('TARGET', axis=1)))"
      ],
      "execution_count": 0,
      "outputs": []
    },
    {
      "metadata": {
        "id": "i9fnB67tHWZw",
        "colab_type": "code",
        "colab": {}
      },
      "cell_type": "code",
      "source": [
        "def load_eligibility(tenure, outstanding_loans):\n",
        "    if tenure <= 25:\n",
        "        if outstanding_loans == 0:\n",
        "            return 0.75\n",
        "        elif outstanding_loans == 1:\n",
        "            return 0.45\n",
        "        elif outstanding_loans > 1:\n",
        "            return 0.35\n",
        "    elif tenure > 25:\n",
        "        if outstanding_loans == 0:\n",
        "            return 0.55\n",
        "        elif outstanding_loans == 1:\n",
        "            return 0.25\n",
        "        elif outstanding_loans > 1: \n",
        "            return 0.15"
      ],
      "execution_count": 0,
      "outputs": []
    }
  ]
}